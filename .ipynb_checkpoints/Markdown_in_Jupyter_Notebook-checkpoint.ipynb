{
 "cells": [
  {
   "cell_type": "markdown",
   "id": "f04d8776-2fb1-4a97-a4d9-053d63f9fdc2",
   "metadata": {},
   "source": [
    "Ex: https://www.datacamp.com/community/tutorials/markdown-in-jupyter-notebook"
   ]
  },
  {
   "cell_type": "markdown",
   "id": "5c71bece-dc08-4fe5-8303-4d053be9d31d",
   "metadata": {},
   "source": [
    "# (Header 1, title)"
   ]
  },
  {
   "cell_type": "markdown",
   "id": "2107f281-a570-4fbc-a741-5e43a46618d0",
   "metadata": {},
   "source": [
    "## (Header 2, major headings)"
   ]
  },
  {
   "cell_type": "markdown",
   "id": "0a5df45c-592d-415a-9573-a6d7fec1595c",
   "metadata": {},
   "source": [
    "### (Header 3, subheadings)"
   ]
  },
  {
   "cell_type": "markdown",
   "id": "fdf727b6-8103-493d-abd6-dc81b1ac446f",
   "metadata": {},
   "source": [
    "#### (Header 4)"
   ]
  },
  {
   "cell_type": "markdown",
   "id": "c62db068-db87-4e75-979e-5e354127658f",
   "metadata": {},
   "source": [
    "##### (Header 5)"
   ]
  },
  {
   "cell_type": "markdown",
   "id": "9895c899-1e12-4a90-90a5-e08ec4531e0b",
   "metadata": {},
   "source": [
    "###### (Header 6)`"
   ]
  },
  {
   "cell_type": "markdown",
   "id": "011ebd90-5c0b-402f-b4ce-a3910e944790",
   "metadata": {},
   "source": [
    "Alternative, the headings can start with Markup Tags, i.e., from h1 to h6 with the following syntaxes."
   ]
  },
  {
   "cell_type": "markdown",
   "id": "95b856b2-4128-46bd-89aa-d8b8dd59fc9c",
   "metadata": {},
   "source": [
    "<h1>Header 1, title</h1>"
   ]
  },
  {
   "cell_type": "markdown",
   "id": "5e82e798-efc1-4822-970c-5ffaae6932cb",
   "metadata": {},
   "source": [
    "<h2>Header 2, major headings</h2>"
   ]
  },
  {
   "cell_type": "markdown",
   "id": "fb568ac9-93bc-4eb7-8bdd-b26078a4c63e",
   "metadata": {},
   "source": [
    "<h3>Header 3, subheading</h3>"
   ]
  },
  {
   "cell_type": "markdown",
   "id": "900fd2df-5737-478d-aad2-b04d2837dd51",
   "metadata": {},
   "source": [
    "<h4>Header 4</h4>"
   ]
  },
  {
   "cell_type": "markdown",
   "id": "c6ae52e8-5d58-4963-92e5-a71b36f5142a",
   "metadata": {},
   "source": [
    "<h5>Header 5</h5>"
   ]
  },
  {
   "cell_type": "markdown",
   "id": "c0afdc4c-be13-437b-89bb-89eb485b645b",
   "metadata": {},
   "source": [
    "<h6>Header 6</h6>"
   ]
  },
  {
   "cell_type": "markdown",
   "id": "651a655d-04f4-471d-add1-9fd036dcf6e5",
   "metadata": {},
   "source": [
    "Both of the syntaxses above can render the headings from h1 to h6 after clicking the 'Run' in the toolbar."
   ]
  },
  {
   "cell_type": "markdown",
   "id": "c7391b2f-f4e9-4dff-ad2a-0fee951ccfd7",
   "metadata": {},
   "source": [
    "# Blockquotes"
   ]
  },
  {
   "cell_type": "markdown",
   "id": "e64f2ca9-da7c-417d-843f-fab4c4e96f13",
   "metadata": {},
   "source": [
    "```\n",
    "Blockquotes can hold the large chunk of text and are generally indented. They can be obtained by\n",
    "using Markdown symbol '>' or with <blockquote>text for blockquote</blockquote>\n",
    "```"
   ]
  },
  {
   "cell_type": "markdown",
   "id": "675657d9-342d-4b94-a5b7-2d8254bd4b2f",
   "metadata": {},
   "source": [
    ">This is good"
   ]
  },
  {
   "cell_type": "markdown",
   "id": "7803934b-3b9f-42bb-9739-856b0f20fb4b",
   "metadata": {},
   "source": [
    "<blockquote>This is also good</blockquote>"
   ]
  },
  {
   "cell_type": "markdown",
   "id": "60bf58ad-3930-4599-81c1-79c9238acb15",
   "metadata": {},
   "source": [
    "# Code section"
   ]
  },
  {
   "cell_type": "markdown",
   "id": "61b2ebeb-4936-444b-bb97-2ec56e7790fd",
   "metadata": {},
   "source": [
    "The Code section is the part that specifies the code of different programming languages and can\n",
    "be rendered where inline code starts with 'inline code goes here' back-ticks around it, but the\n",
    "block of code starts with three back-ticks '`block line code goes here`'. Also, the Markup tag for a\n",
    "Code section is '<code>code goes here</code>'."
   ]
  },
  {
   "cell_type": "markdown",
   "id": "00d69f9f-7bac-4144-a67d-25e34d2e6bbd",
   "metadata": {},
   "source": [
    "`x = 5`"
   ]
  },
  {
   "cell_type": "markdown",
   "id": "fa827021-cfe4-4752-b8a5-87e2f213c8e8",
   "metadata": {},
   "source": [
    "Using Markdown\n"
   ]
  },
  {
   "cell_type": "markdown",
   "id": "1ef230dc-5cdb-4375-ba18-a1c94bd4030b",
   "metadata": {},
   "source": [
    "Python\n"
   ]
  },
  {
   "cell_type": "markdown",
   "id": "0684029c-a4db-4cc9-83fc-8c68b67d8db7",
   "metadata": {},
   "source": [
    "str = \"This is block level code\""
   ]
  },
  {
   "cell_type": "code",
   "execution_count": 6,
   "id": "9bfe3078-8d69-4740-b548-1a2b4e8c6888",
   "metadata": {},
   "outputs": [
    {
     "name": "stdout",
     "output_type": "stream",
     "text": [
      "<class 'str'>\n"
     ]
    }
   ],
   "source": [
    "print(str)"
   ]
  },
  {
   "cell_type": "markdown",
   "id": "b756c78c-b6b4-4ce5-9a5a-d3cb21b5669a",
   "metadata": {},
   "source": [
    "Using Markup Tags"
   ]
  },
  {
   "cell_type": "markdown",
   "id": "83542d2e-fa0f-46dc-84cb-e00d860b7225",
   "metadata": {},
   "source": [
    "<code>Python\n",
    "str = \"This is a block level code\"\n",
    "print(str)\n",
    "</code>\n"
   ]
  },
  {
   "cell_type": "markdown",
   "id": "43091e6f-4a1f-4411-8e7a-e1a28f90377b",
   "metadata": {},
   "source": [
    "# Mathematical Symbol"
   ]
  },
  {
   "cell_type": "code",
   "execution_count": null,
   "id": "e74dc546-e5a4-44ee-a142-9a92803286ca",
   "metadata": {},
   "outputs": [],
   "source": []
  }
 ],
 "metadata": {
  "kernelspec": {
   "display_name": "Python 3",
   "language": "python",
   "name": "python3"
  },
  "language_info": {
   "codemirror_mode": {
    "name": "ipython",
    "version": 3
   },
   "file_extension": ".py",
   "mimetype": "text/x-python",
   "name": "python",
   "nbconvert_exporter": "python",
   "pygments_lexer": "ipython3",
   "version": "3.9.1"
  }
 },
 "nbformat": 4,
 "nbformat_minor": 5
}
