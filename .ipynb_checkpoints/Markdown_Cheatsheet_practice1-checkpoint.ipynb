{
 "cells": [
  {
   "cell_type": "markdown",
   "id": "62b2d6af-e908-4272-8def-6b3a76683b93",
   "metadata": {},
   "source": [
    "# H1"
   ]
  },
  {
   "cell_type": "markdown",
   "id": "58c4ef39-0679-4fb5-9eac-4c4a633cd926",
   "metadata": {},
   "source": [
    "## H2"
   ]
  },
  {
   "cell_type": "markdown",
   "id": "48f99ad2-4fa1-4404-bbf2-fa4a7a2cc1fd",
   "metadata": {},
   "source": [
    "### H3"
   ]
  },
  {
   "cell_type": "markdown",
   "id": "76575557-3c65-45ad-8e95-a2df74730e00",
   "metadata": {},
   "source": [
    "#### H4"
   ]
  },
  {
   "cell_type": "markdown",
   "id": "03226b8f-c3d9-4f3c-a8c0-c7a79e81b9da",
   "metadata": {},
   "source": [
    "##### H5"
   ]
  },
  {
   "cell_type": "markdown",
   "id": "231e1533-02be-4e3a-8d2b-55b8f8916cfa",
   "metadata": {},
   "source": [
    "###### H6"
   ]
  },
  {
   "cell_type": "markdown",
   "id": "648defde-bc05-4e83-a04b-3fd6b6f29f01",
   "metadata": {},
   "source": [
    "Alternatively, for H1 and H2, an underline-ish style:\n",
    "    "
   ]
  },
  {
   "cell_type": "markdown",
   "id": "79bd345b-a0ef-4098-905d-5aa5aae203b2",
   "metadata": {},
   "source": [
    "Alt-H1\n",
    "======"
   ]
  },
  {
   "cell_type": "markdown",
   "id": "71df99d7-1720-4ebc-9532-73824cf24035",
   "metadata": {},
   "source": [
    "Alt-H2\n",
    "------"
   ]
  },
  {
   "cell_type": "markdown",
   "id": "0874e581-9aaf-4f96-b6f5-8a8d59c4a6f0",
   "metadata": {},
   "source": [
    "## Emphasis"
   ]
  },
  {
   "cell_type": "markdown",
   "id": "ae2c268f-8176-435f-840e-78c2c1c60eef",
   "metadata": {},
   "source": [
    "Emphasis, aka italics, with *asterisks* or _underscores_.\n",
    "Strong emphasis, aka bold, with **asterisks** or __underscores__.\n",
    "Combined emphasis with **asterisks and _underscores_**.\n",
    "Strikethrough uses two tildes. ~~Scratch this.~~\n"
   ]
  },
  {
   "cell_type": "markdown",
   "id": "a865a768-65b7-4795-9fd7-ff7ec063f9c5",
   "metadata": {},
   "source": [
    "## Lists"
   ]
  },
  {
   "cell_type": "markdown",
   "id": "4f049318-ee1b-49be-b80e-fb468d0c81fd",
   "metadata": {},
   "source": [
    "1. First ordered list item\n",
    "2. Another item\n",
    "  * Unordered sub-list. \n",
    "1. Actual numbers don't matter, just that it's a number\n",
    "  1. Ordered sub-list\n",
    "4. And another item.\n",
    "\n",
    "   You can have properly indented paragraphs within list items. Notice the blank line above, and the leading spaces (at least one, but we'll use three here to also align the raw Markdown).\n",
    "   Note that this line is separate, but within the same paragraph.  \n",
    "   (This is contrary to the typical GFM line break behaviour, where trailing spaces are not required.)\n",
    "   \n",
    "* Unordered list can use asterisks\n",
    "- Or minuses\n",
    "+ Or pluses\n"
   ]
  },
  {
   "cell_type": "markdown",
   "id": "d56a23f0-dbb2-4874-8094-288d8dfb5f64",
   "metadata": {},
   "source": [
    "## Links"
   ]
  },
  {
   "cell_type": "code",
   "execution_count": null,
   "id": "1aabdde1-fde8-405a-9b8a-39669cc18df0",
   "metadata": {},
   "outputs": [],
   "source": []
  }
 ],
 "metadata": {
  "kernelspec": {
   "display_name": "Python 3",
   "language": "python",
   "name": "python3"
  },
  "language_info": {
   "codemirror_mode": {
    "name": "ipython",
    "version": 3
   },
   "file_extension": ".py",
   "mimetype": "text/x-python",
   "name": "python",
   "nbconvert_exporter": "python",
   "pygments_lexer": "ipython3",
   "version": "3.9.1"
  }
 },
 "nbformat": 4,
 "nbformat_minor": 5
}
