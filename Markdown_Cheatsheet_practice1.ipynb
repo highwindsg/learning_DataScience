{
 "cells": [
  {
   "cell_type": "markdown",
   "id": "62b2d6af-e908-4272-8def-6b3a76683b93",
   "metadata": {},
   "source": [
    "# H1"
   ]
  },
  {
   "cell_type": "markdown",
   "id": "58c4ef39-0679-4fb5-9eac-4c4a633cd926",
   "metadata": {},
   "source": [
    "## H2"
   ]
  },
  {
   "cell_type": "markdown",
   "id": "48f99ad2-4fa1-4404-bbf2-fa4a7a2cc1fd",
   "metadata": {},
   "source": [
    "### H3"
   ]
  },
  {
   "cell_type": "markdown",
   "id": "76575557-3c65-45ad-8e95-a2df74730e00",
   "metadata": {},
   "source": [
    "#### H4"
   ]
  },
  {
   "cell_type": "markdown",
   "id": "03226b8f-c3d9-4f3c-a8c0-c7a79e81b9da",
   "metadata": {},
   "source": [
    "##### H5"
   ]
  },
  {
   "cell_type": "markdown",
   "id": "231e1533-02be-4e3a-8d2b-55b8f8916cfa",
   "metadata": {},
   "source": [
    "###### H6"
   ]
  },
  {
   "cell_type": "markdown",
   "id": "648defde-bc05-4e83-a04b-3fd6b6f29f01",
   "metadata": {},
   "source": [
    "Alternatively, for H1 and H2, an underline-ish style:\n",
    "    "
   ]
  },
  {
   "cell_type": "markdown",
   "id": "79bd345b-a0ef-4098-905d-5aa5aae203b2",
   "metadata": {},
   "source": [
    "Alt-H1\n",
    "======"
   ]
  },
  {
   "cell_type": "markdown",
   "id": "71df99d7-1720-4ebc-9532-73824cf24035",
   "metadata": {},
   "source": [
    "Alt-H2\n",
    "------"
   ]
  },
  {
   "cell_type": "markdown",
   "id": "0874e581-9aaf-4f96-b6f5-8a8d59c4a6f0",
   "metadata": {},
   "source": [
    "## Emphasis"
   ]
  },
  {
   "cell_type": "markdown",
   "id": "ae2c268f-8176-435f-840e-78c2c1c60eef",
   "metadata": {},
   "source": [
    "Emphasis, aka italics, with *asterisks* or _underscores_.\n",
    "Strong emphasis, aka bold, with **asterisks** or __underscores__.\n",
    "Combined emphasis with **asterisks and _underscores_**.\n",
    "Strikethrough uses two tildes. ~~Scratch this.~~\n"
   ]
  },
  {
   "cell_type": "markdown",
   "id": "a865a768-65b7-4795-9fd7-ff7ec063f9c5",
   "metadata": {},
   "source": [
    "## Lists"
   ]
  },
  {
   "cell_type": "markdown",
   "id": "4f049318-ee1b-49be-b80e-fb468d0c81fd",
   "metadata": {},
   "source": [
    "1. First ordered list item\n",
    "2. Another item\n",
    "  * Unordered sub-list. \n",
    "1. Actual numbers don't matter, just that it's a number\n",
    "  1. Ordered sub-list\n",
    "4. And another item.\n",
    "\n",
    "   You can have properly indented paragraphs within list items. Notice the blank line above, and the leading spaces (at least one, but we'll use three here to also align the raw Markdown).\n",
    "   Note that this line is separate, but within the same paragraph.  \n",
    "   (This is contrary to the typical GFM line break behaviour, where trailing spaces are not required.)\n",
    "   \n",
    "* Unordered list can use asterisks\n",
    "- Or minuses\n",
    "+ Or pluses\n"
   ]
  },
  {
   "cell_type": "markdown",
   "id": "d56a23f0-dbb2-4874-8094-288d8dfb5f64",
   "metadata": {},
   "source": [
    "## Links"
   ]
  },
  {
   "cell_type": "markdown",
   "id": "adafb71e-f71d-4bf9-8a49-74df9496517d",
   "metadata": {},
   "source": [
    "There are two ways to create links.\n"
   ]
  },
  {
   "cell_type": "markdown",
   "id": "5fe17d8a-7a55-4503-aea8-d42e7b359df8",
   "metadata": {},
   "source": [
    "[I'm an inline-style link](https://www.google.com)\n",
    "\n",
    "[I'm an inline-style link with title](https://www.google.com \"Google's Homepage\")\n",
    "\n",
    "[I'm a reference-style link][Arbitrary case-insensitive reference text]\n",
    "\n",
    "[I'm a relative reference to a repository file](../blob/master/LICENSE)\n",
    "\n",
    "[You can use numbers for reference-style link definitions][1]\n",
    "\n",
    "Or leave it empty and use the [link text itself].\n",
    "\n",
    "\n",
    "URLs and URLS in angle brackets will automatically get turned into links.\n",
    "http://www.example.com or <http://www.wxample.com> and sometimes\n",
    "example.com (but not on Github, for example).\n",
    "\n",
    "Some text to show that the reference links can follow later.\n",
    "\n",
    "[arbitrary case-insensitive reference text]: https://www.mozilla.org\n",
    "[1]: http://slashdot.org\n",
    "[link text itself]: http://www.reddit.com\n",
    "\n"
   ]
  },
  {
   "cell_type": "markdown",
   "id": "a0d3cf4e-880d-4b99-8923-468f262c7355",
   "metadata": {},
   "source": [
    "## Images"
   ]
  },
  {
   "cell_type": "markdown",
   "id": "0beb6c45-72dd-4e89-84c0-60d719d4ed5f",
   "metadata": {},
   "source": [
    "Here's our logo (hover to see the title text):\n",
    "\n",
    "Inline-style:\n",
    "![alt text](https://github.com/adam-p/markdown-here/raw/master/src/common/images/icon48.png \"Logo Title Text 1\")\n",
    "\n",
    "Reference-style:\n",
    "![alt text][logo]\n",
    "\n",
    "[logo]: https://github.com/adam-p/markdown-here/raw/master/src/common/images/icon48.png \"Logo Title Text 2\"\n",
    "        "
   ]
  },
  {
   "cell_type": "markdown",
   "id": "09eccd06-4edc-4d3f-8cf1-9389af81bafe",
   "metadata": {},
   "source": [
    "## Code and Syntax Highlighting"
   ]
  },
  {
   "cell_type": "markdown",
   "id": "47e3b28f-09d8-42be-9ced-8ba2ec17fc79",
   "metadata": {},
   "source": [
    "Code blocs are part os the Markdown spec, but syntax lhighlighting isn't. However, many renders -- like Github and\n",
    "Markdown Here -- support syntax highlighting. Which languagues aere supported and how those languages names should\n",
    "be written will vary from renderer to renderer. Markdown Here supports highlighting for dozens of languages (and not-\n",
    "really-languages, like diffs and HTTP heqaders); to see the complete list, and how to write the languages names, see the\n",
    "highlight.js demo page.\n"
   ]
  },
  {
   "cell_type": "markdown",
   "id": "b63901f1-b9ba-4eef-b9a4-5a90414464a7",
   "metadata": {},
   "source": [
    "Inline `code` has `back-ticks around` it."
   ]
  },
  {
   "cell_type": "markdown",
   "id": "f8749b56-a19b-439a-9bca-10f45d139dee",
   "metadata": {},
   "source": [
    "Blocks of code are either fenced by lines with three back-ticks ```, or are indented with four spaces. I recommend only\n",
    "using the fenced code blocks -- they're easier and only they support syntax highlighting.\n"
   ]
  },
  {
   "cell_type": "markdown",
   "id": "80b5505d-6ea1-49cc-8079-7dd6d4b5164c",
   "metadata": {},
   "source": [
    "```javascript\n",
    "var s = \"JavaScript syntax highlighting\";\n",
    "alert(s);\n",
    "```"
   ]
  },
  {
   "cell_type": "markdown",
   "id": "ff63d16e-a82f-4df5-b92a-53c95e7986c4",
   "metadata": {},
   "source": [
    "```python\n",
    "s = \"Python syntax highlighting\"\n",
    "print(s)\n",
    "```\n"
   ]
  },
  {
   "cell_type": "markdown",
   "id": "f868634d-4fc1-4093-9eb1-cea964b50ab5",
   "metadata": {},
   "source": [
    "```\n",
    "No language indicated, so no syntax highlighting in Markdown Here (varies on Github).\n",
    "But let's throw in a <b>tag</b>.\n"
   ]
  },
  {
   "cell_type": "markdown",
   "id": "aa9e2468-f640-4eba-9986-c1dabaa647c3",
   "metadata": {},
   "source": [
    "## Tables"
   ]
  },
  {
   "cell_type": "markdown",
   "id": "9d0dedcf-ccb6-427f-8f12-453ab53a0d71",
   "metadata": {},
   "source": [
    "Tables aren't part of the core Markdown spec, but they are part of GFM and Markdown Here supports them.\n",
    "They are an easy way of adding tables to your email -- a task that would otherwise require copy-pasting from another application.\n"
   ]
  },
  {
   "cell_type": "markdown",
   "id": "e5b0e4b8-bb98-4609-bf09-ee2fedfc5324",
   "metadata": {},
   "source": [
    "Colons can be used to align columns.\n",
    "\n",
    "| Tables        | Are           | Cool  |\n",
    "| ------------- |:-------------:| ----- |\n",
    "| col 3 is      | right-aligned | $1600 |\n",
    "| col 2 is      | centered      |   $12 |\n",
    "| zebra stripes | are neat      |    $1 |\n"
   ]
  },
  {
   "cell_type": "markdown",
   "id": "39497b4b-b0bf-4288-a775-eaf97025f538",
   "metadata": {},
   "source": [
    "There must be at least 3 dashes separating each header cell.\n",
    "The outer pipes (|) are optional, and you don't need to make the\n",
    "raw Markdown line up prettily. You can also use inline Markdown.\n"
   ]
  },
  {
   "cell_type": "markdown",
   "id": "cb38c4ba-37d1-437a-894e-fe70edb6f94e",
   "metadata": {},
   "source": [
    "Markdown | Less | Pretty\n",
    "--- | --- | ---\n",
    "*Still* | `renders` | **nicely**\n",
    "1 | 2 | 3\n"
   ]
  },
  {
   "cell_type": "markdown",
   "id": "dae8b653-4ba8-4bea-b5b8-a55f1ee338ab",
   "metadata": {},
   "source": [
    "## Blockqoutes"
   ]
  },
  {
   "cell_type": "markdown",
   "id": "c3a20880-8385-4e04-8d2a-5a3356825ca3",
   "metadata": {},
   "source": [
    "> Blockquotes are very handy in email to emulate reply text.\n",
    "> This line is part of the same quote.\n",
    "\n",
    "Quote break.\n",
    "\n",
    "> This is a very long line that will still be quoted properly when it wraps. Oh boy let's keep writing to make sure this is long enough to actually wrap everyone. Oh, you can *put* **Markdown** into a blockquote."
   ]
  },
  {
   "cell_type": "markdown",
   "id": "2b58c899-ca43-4cca-a740-99a2314bc7e3",
   "metadata": {},
   "source": [
    "## Inline HTML"
   ]
  },
  {
   "cell_type": "markdown",
   "id": "dbd5e7dd-48d2-4e45-aeb7-ca62b6758ec8",
   "metadata": {},
   "source": [
    "You can also use raw HTML in your Markdown, and it'll mostly work pretty well.\n"
   ]
  },
  {
   "cell_type": "markdown",
   "id": "9180c629-fcde-4ba5-8a68-4695fa6e3ced",
   "metadata": {},
   "source": [
    "<dl>\n",
    "    <dt>Definition list</dt>\n",
    "    <dd>Is something people use sometimes.</dd>\n",
    "    \n",
    "    <dt>Markdown in HTML</dt>\n",
    "    <dd>Does *not* work **very** well. Use HTML <em>tags</em>.</dd>\n",
    "</dl>\n"
   ]
  },
  {
   "cell_type": "markdown",
   "id": "e00ba327-084d-484d-93a7-b1c371e189ac",
   "metadata": {},
   "source": [
    "## Horizontal Rule"
   ]
  },
  {
   "cell_type": "code",
   "execution_count": null,
   "id": "5c3a7303-6ab7-4d29-872b-45aecbf4fa97",
   "metadata": {},
   "outputs": [],
   "source": []
  }
 ],
 "metadata": {
  "kernelspec": {
   "display_name": "Python 3",
   "language": "python",
   "name": "python3"
  },
  "language_info": {
   "codemirror_mode": {
    "name": "ipython",
    "version": 3
   },
   "file_extension": ".py",
   "mimetype": "text/x-python",
   "name": "python",
   "nbconvert_exporter": "python",
   "pygments_lexer": "ipython3",
   "version": "3.9.1"
  }
 },
 "nbformat": 4,
 "nbformat_minor": 5
}
