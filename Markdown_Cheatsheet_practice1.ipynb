{
 "cells": [
  {
   "cell_type": "markdown",
   "id": "62b2d6af-e908-4272-8def-6b3a76683b93",
   "metadata": {},
   "source": [
    "# H1"
   ]
  },
  {
   "cell_type": "markdown",
   "id": "58c4ef39-0679-4fb5-9eac-4c4a633cd926",
   "metadata": {},
   "source": [
    "## H2"
   ]
  },
  {
   "cell_type": "markdown",
   "id": "48f99ad2-4fa1-4404-bbf2-fa4a7a2cc1fd",
   "metadata": {},
   "source": [
    "### H3"
   ]
  },
  {
   "cell_type": "markdown",
   "id": "76575557-3c65-45ad-8e95-a2df74730e00",
   "metadata": {},
   "source": [
    "#### H4"
   ]
  },
  {
   "cell_type": "markdown",
   "id": "03226b8f-c3d9-4f3c-a8c0-c7a79e81b9da",
   "metadata": {},
   "source": [
    "##### H5"
   ]
  },
  {
   "cell_type": "markdown",
   "id": "231e1533-02be-4e3a-8d2b-55b8f8916cfa",
   "metadata": {},
   "source": [
    "###### H6"
   ]
  },
  {
   "cell_type": "markdown",
   "id": "648defde-bc05-4e83-a04b-3fd6b6f29f01",
   "metadata": {},
   "source": [
    "Alternatively, for H1 and H2, an underline-ish style:\n",
    "    "
   ]
  },
  {
   "cell_type": "markdown",
   "id": "79bd345b-a0ef-4098-905d-5aa5aae203b2",
   "metadata": {},
   "source": [
    "Alt-H1\n",
    "======"
   ]
  },
  {
   "cell_type": "markdown",
   "id": "71df99d7-1720-4ebc-9532-73824cf24035",
   "metadata": {},
   "source": [
    "Alt-H2\n",
    "------"
   ]
  },
  {
   "cell_type": "markdown",
   "id": "0874e581-9aaf-4f96-b6f5-8a8d59c4a6f0",
   "metadata": {},
   "source": [
    "## Emphasis"
   ]
  },
  {
   "cell_type": "code",
   "execution_count": null,
   "id": "c7dc0272-d34c-4347-ac2f-61ff6282274a",
   "metadata": {},
   "outputs": [],
   "source": []
  }
 ],
 "metadata": {
  "kernelspec": {
   "display_name": "Python 3",
   "language": "python",
   "name": "python3"
  },
  "language_info": {
   "codemirror_mode": {
    "name": "ipython",
    "version": 3
   },
   "file_extension": ".py",
   "mimetype": "text/x-python",
   "name": "python",
   "nbconvert_exporter": "python",
   "pygments_lexer": "ipython3",
   "version": "3.9.1"
  }
 },
 "nbformat": 4,
 "nbformat_minor": 5
}
